{
  "nbformat": 4,
  "nbformat_minor": 0,
  "metadata": {
    "colab": {
      "name": "Exception_Handling.ipynb",
      "provenance": [],
      "collapsed_sections": [],
      "authorship_tag": "ABX9TyMwIh8oFxjVwhdefsZZSN0x",
      "include_colab_link": true
    },
    "kernelspec": {
      "name": "python3",
      "display_name": "Python 3"
    }
  },
  "cells": [
    {
      "cell_type": "markdown",
      "metadata": {
        "id": "view-in-github",
        "colab_type": "text"
      },
      "source": [
        "<a href=\"https://colab.research.google.com/github/ttury/Web-Scraping-with-Python/blob/main/Exception_Handling.ipynb\" target=\"_parent\"><img src=\"https://colab.research.google.com/assets/colab-badge.svg\" alt=\"Open In Colab\"/></a>"
      ]
    },
    {
      "cell_type": "code",
      "metadata": {
        "colab": {
          "base_uri": "https://localhost:8080/"
        },
        "id": "kSGce_lo90Cr",
        "outputId": "7a42757b-6dd9-4e86-f348-2af41261793c"
      },
      "source": [
        "from urllib.request import urlopen\r\n",
        "from urllib.request import HTTPError\r\n",
        "\r\n",
        "try:\r\n",
        "  html = urlopen('http://www.pythonscraping.com/pages/error.html')\r\n",
        "except HTTPError as e:\r\n",
        "  print(e)\r\n",
        "else:\r\n",
        "  print(\"It Worked!\")"
      ],
      "execution_count": 2,
      "outputs": [
        {
          "output_type": "stream",
          "text": [
            "HTTP Error 404: Not Found\n"
          ],
          "name": "stdout"
        }
      ]
    },
    {
      "cell_type": "code",
      "metadata": {
        "colab": {
          "base_uri": "https://localhost:8080/"
        },
        "id": "PcL6EryS-M3k",
        "outputId": "991ef083-b72e-4319-d40e-03ec79562d14"
      },
      "source": [
        "from urllib.request import urlopen\r\n",
        "from urllib.request import URLError\r\n",
        "\r\n",
        "try:\r\n",
        "  html = urlopen('https://pythonscrapingthisurldoesnotexist.com')\r\n",
        "except URLError as e:\r\n",
        "  print(e)\r\n",
        "else:\r\n",
        "  print(\"It Worked!\")"
      ],
      "execution_count": 4,
      "outputs": [
        {
          "output_type": "stream",
          "text": [
            "<urlopen error [Errno -2] Name or service not known>\n"
          ],
          "name": "stdout"
        }
      ]
    },
    {
      "cell_type": "code",
      "metadata": {
        "colab": {
          "base_uri": "https://localhost:8080/"
        },
        "id": "QvoOxlOK-v1O",
        "outputId": "d9384f9a-b677-452e-b509-8044511bb037"
      },
      "source": [
        "from urllib.request import urlopen\r\n",
        "from bs4 import BeautifulSoup\r\n",
        "\r\n",
        "html = urlopen('http://www.pythonscraping.com/pages/page1.html')\r\n",
        "try:\r\n",
        "  bs = BeautifulSoup(html.read(), 'html.parser')\r\n",
        "  badContent = bs.nonExistingTag.anotherTag\r\n",
        "except AttributeError as e:\r\n",
        "  print('Tag was not found')\r\n",
        "else:\r\n",
        "  if badContent == None:\r\n",
        "    print('Tag was not found')\r\n",
        "  else:\r\n",
        "    print(badContent)"
      ],
      "execution_count": 10,
      "outputs": [
        {
          "output_type": "stream",
          "text": [
            "Tag was not found\n"
          ],
          "name": "stdout"
        },
        {
          "output_type": "stream",
          "text": [
            "/usr/local/lib/python3.7/dist-packages/bs4/element.py:1110: UserWarning: .nonExistingTag is deprecated, use .find(\"nonExisting\") instead. If you really were looking for a tag called nonExistingTag, use .find(\"nonExistingTag\")\n",
            "  name=tag_name\n"
          ],
          "name": "stderr"
        }
      ]
    },
    {
      "cell_type": "code",
      "metadata": {
        "colab": {
          "base_uri": "https://localhost:8080/"
        },
        "id": "NpKX2GWcE084",
        "outputId": "01fb70a9-d51b-416e-98f8-7e7d4b15b06c"
      },
      "source": [
        "from urllib.request import urlopen\r\n",
        "from urllib.request import HTTPError\r\n",
        "from urllib.request import URLError\r\n",
        "from bs4 import BeautifulSoup\r\n",
        "\r\n",
        "def getTitle(url):\r\n",
        "  try:\r\n",
        "    html = urlopen(url) # HTTPerror 또는 URLError 발생 가능\r\n",
        "  except HTTPError as e:\r\n",
        "    return None\r\n",
        "  except URLError as e:\r\n",
        "    return None\r\n",
        "  try:\r\n",
        "    bs = BeautifulSoup(html.read(), 'html.parser') # HTTPError 또는 URLError가 일어나면 html이 None 객체가 되어 이 행에서도 AttributeError 발생 가능\r\n",
        "    title = bs.body.h1 # AttributeError 발생 가능\r\n",
        "  except AttributeError as e:\r\n",
        "    return None\r\n",
        "  return title # h1 태그가 없어 title이 None 객체일 수도 있음\r\n",
        "\r\n",
        "title = getTitle('http://www.pythonscraping.com/pages/page1.html')\r\n",
        "if title == None:\r\n",
        "  print('Title could not found')\r\n",
        "else:\r\n",
        "  print(title)"
      ],
      "execution_count": 12,
      "outputs": [
        {
          "output_type": "stream",
          "text": [
            "<h1>An Interesting Title</h1>\n"
          ],
          "name": "stdout"
        }
      ]
    },
    {
      "cell_type": "markdown",
      "metadata": {
        "id": "79kl374HGAdm"
      },
      "source": [
        "# Exception Handling\r\n",
        "\r\n",
        "## HTTPError\r\n",
        "\r\n",
        "> 도메인 내 특정 문서를 찾을 수 없는 경우\r\n",
        "\r\n",
        "> urlopen과 함께 try-except 문으로 사용\r\n",
        "\r\n",
        "## URLError\r\n",
        "\r\n",
        "> 도메인 또는 서버 자체를 찾을 수 없는 경우(URL 오타)\r\n",
        "\r\n",
        "> urlopen과 함께 try-except 문으로 사용\r\n",
        "\r\n",
        "## AttributeError\r\n",
        "\r\n",
        "> None 객체의 자식 태그에 접근하려 한 경우\r\n",
        "\r\n",
        "> 존재하지 않는 태그의 **자식 태그**에 접근하려 한 경우\r\n",
        "\r\n",
        "> BeautifulSoup 객체 생성, 특정 태그에 접근할 때 try-except 문으로 사용\r\n",
        "\r\n",
        "`badContent = bs.nonExistingTag.anotherTag`\r\n",
        "\r\n",
        "> AttributeError 발생\r\n",
        "\r\n",
        "\r\n",
        "> 들여쓴 블록\r\n",
        "\r\n",
        "\r\n",
        "`noneContent = bs.nonExistingTag`\r\n",
        "\r\n",
        "> 정상 실행, None 객체 반환"
      ]
    }
  ]
}