{
  "nbformat": 4,
  "nbformat_minor": 0,
  "metadata": {
    "colab": {
      "name": "Web_Scraping_with_Python_Ch_2.ipynb",
      "provenance": [],
      "collapsed_sections": [],
      "authorship_tag": "ABX9TyOH32Ny+o4PE2vuAH/f2BkW",
      "include_colab_link": true
    },
    "kernelspec": {
      "name": "python3",
      "display_name": "Python 3"
    }
  },
  "cells": [
    {
      "cell_type": "markdown",
      "metadata": {
        "id": "view-in-github",
        "colab_type": "text"
      },
      "source": [
        "<a href=\"https://colab.research.google.com/github/ttury/Web-Scraping-with-Python/blob/main/Web_Scraping_with_Python_Ch_2.ipynb\" target=\"_parent\"><img src=\"https://colab.research.google.com/assets/colab-badge.svg\" alt=\"Open In Colab\"/></a>"
      ]
    },
    {
      "cell_type": "code",
      "metadata": {
        "colab": {
          "base_uri": "https://localhost:8080/"
        },
        "id": "FKw9S6Qjj2RP",
        "outputId": "e3740527-a315-4694-c494-ad614e8039f2"
      },
      "source": [
        "from urllib.request import urlopen\r\n",
        "from bs4 import BeautifulSoup\r\n",
        "\r\n",
        "html = urlopen('http://www.pythonscraping.com/pages/warandpeace.html')\r\n",
        "bs = BeautifulSoup(html.read(), 'html.parser')\r\n",
        "\r\n",
        "nameList = bs.findAll('span', {'class': 'green'})\r\n",
        "for name in nameList:\r\n",
        "  print(name.get_text())"
      ],
      "execution_count": null,
      "outputs": [
        {
          "output_type": "stream",
          "text": [
            "Anna\n",
            "Pavlovna Scherer\n",
            "Empress Marya\n",
            "Fedorovna\n",
            "Prince Vasili Kuragin\n",
            "Anna Pavlovna\n",
            "St. Petersburg\n",
            "the prince\n",
            "Anna Pavlovna\n",
            "Anna Pavlovna\n",
            "the prince\n",
            "the prince\n",
            "the prince\n",
            "Prince Vasili\n",
            "Anna Pavlovna\n",
            "Anna Pavlovna\n",
            "the prince\n",
            "Wintzingerode\n",
            "King of Prussia\n",
            "le Vicomte de Mortemart\n",
            "Montmorencys\n",
            "Rohans\n",
            "Abbe Morio\n",
            "the Emperor\n",
            "the prince\n",
            "Prince Vasili\n",
            "Dowager Empress Marya Fedorovna\n",
            "the baron\n",
            "Anna Pavlovna\n",
            "the Empress\n",
            "the Empress\n",
            "Anna Pavlovna's\n",
            "Her Majesty\n",
            "Baron\n",
            "Funke\n",
            "The prince\n",
            "Anna\n",
            "Pavlovna\n",
            "the Empress\n",
            "The prince\n",
            "Anatole\n",
            "the prince\n",
            "The prince\n",
            "Anna\n",
            "Pavlovna\n",
            "Anna Pavlovna\n"
          ],
          "name": "stdout"
        }
      ]
    },
    {
      "cell_type": "code",
      "metadata": {
        "colab": {
          "base_uri": "https://localhost:8080/"
        },
        "id": "0KykshSXl5lf",
        "outputId": "8fb47ef2-bfed-47c2-d801-4dd86c739c18"
      },
      "source": [
        "from urllib.request import urlopen\r\n",
        "from bs4 import BeautifulSoup\r\n",
        "\r\n",
        "html = urlopen('http://www.pythonscraping.com/pages/warandpeace.html')\r\n",
        "bs = BeautifulSoup(html.read(), 'html.parser')\r\n",
        "\r\n",
        "nameLIst = bs.findAll(['h1', 'h2', 'h3'])\r\n",
        "for name in nameList:\r\n",
        "  print(name.get_text())"
      ],
      "execution_count": null,
      "outputs": [
        {
          "output_type": "stream",
          "text": [
            "Anna\n",
            "Pavlovna Scherer\n",
            "Empress Marya\n",
            "Fedorovna\n",
            "Prince Vasili Kuragin\n",
            "Anna Pavlovna\n",
            "St. Petersburg\n",
            "the prince\n",
            "Anna Pavlovna\n",
            "Anna Pavlovna\n",
            "the prince\n",
            "the prince\n",
            "the prince\n",
            "Prince Vasili\n",
            "Anna Pavlovna\n",
            "Anna Pavlovna\n",
            "the prince\n",
            "Wintzingerode\n",
            "King of Prussia\n",
            "le Vicomte de Mortemart\n",
            "Montmorencys\n",
            "Rohans\n",
            "Abbe Morio\n",
            "the Emperor\n",
            "the prince\n",
            "Prince Vasili\n",
            "Dowager Empress Marya Fedorovna\n",
            "the baron\n",
            "Anna Pavlovna\n",
            "the Empress\n",
            "the Empress\n",
            "Anna Pavlovna's\n",
            "Her Majesty\n",
            "Baron\n",
            "Funke\n",
            "The prince\n",
            "Anna\n",
            "Pavlovna\n",
            "the Empress\n",
            "The prince\n",
            "Anatole\n",
            "the prince\n",
            "The prince\n",
            "Anna\n",
            "Pavlovna\n",
            "Anna Pavlovna\n"
          ],
          "name": "stdout"
        }
      ]
    },
    {
      "cell_type": "code",
      "metadata": {
        "id": "b_odEJqp0bZe"
      },
      "source": [
        ""
      ],
      "execution_count": null,
      "outputs": []
    },
    {
      "cell_type": "markdown",
      "metadata": {
        "id": "aAoPPPpPmVxL"
      },
      "source": [
        "# findAll(tag, attributes, recursive, text, limit, keyword)  \r\n",
        "\r\n",
        "## tag\r\n",
        "\r\n",
        "`bs.findAll({'h1', 'h2', 'h3', 'h4', 'h5', 'h6'})`\r\n",
        "\r\n",
        "> h1 ~ h6 태그를 모두 리스트로 출력\r\n",
        "\r\n",
        "## attributes\r\n",
        "\r\n",
        "`bs.findAll('span', {'class':{'green', 'red'}})`\r\n",
        "\r\n",
        "> green, red 클래스를 모두 리스트로 출력(or)\r\n",
        "\r\n",
        "\r\n",
        "## reculsive\r\n",
        "\r\n",
        "> recursion이 True이면 자식 태그까지 모두 찾음  \r\n",
        "False이면 문서의 최상위 태그만 찾음  \r\n",
        "기본값은 True\r\n",
        "\r\n",
        "## text\r\n",
        "\r\n",
        "```\r\n",
        "nameList = bs.findAll(text = 'the prince')\r\n",
        "print(len(nameList))\r\n",
        "```\r\n",
        "\r\n",
        "> 태그에 둘러싸인 'the prince'가 나타난 횟수 출력\r\n",
        "\r\n",
        "## limit\r\n",
        "\r\n",
        "> 찾는 항목의 개수 한정하기  \r\n",
        "find 함수는 limit을 1로 지정한 findAll 함수와 같음\r\n",
        "\r\n",
        "## keyword\r\n",
        "\r\n",
        "`title = bs.findAll(id='title', class_='text')`\r\n",
        "\r\n",
        "> id가 'title', class가 'text'인 태그 찾기  \r\n",
        "\r\n",
        "`title = bs.findAll('', {'id':'title', 'class':'text'})`\r\n",
        "\r\n",
        "> attributes로 같은 기능을 수행할 수 있음  \r\n",
        "\r\n",
        "> **class (x)**  \r\n",
        "class_ (o)   'class' (o)\r\n",
        "\r\n"
      ]
    },
    {
      "cell_type": "markdown",
      "metadata": {
        "id": "KcXVxTCQxI_6"
      },
      "source": [
        "# BeautifulSoup 라이브러리의 4가지 객체\r\n",
        "\r\n",
        "---\r\n",
        "\r\n",
        "## 1. BeautifulSoup 객체\r\n",
        "\r\n",
        "> 일반적으로 사용하는 객체, bs로 사용\r\n",
        "\r\n",
        "## 2. Tag 객체\r\n",
        "\r\n",
        "> 리스트 호출 또는 BeautifulSoup 객체에서의 findAll 호출, 다음과 같은 탐색으로 얻음\r\n",
        "\r\n",
        "`bs.div.h1`\r\n",
        "\r\n",
        "## 3. NavigableString 객체\r\n",
        "\r\n",
        "> 태그 자체가 아니라 태그 안에 들어 있는 텍스트를 나타냄\r\n",
        "\r\n",
        "## 4. Comment 객체\r\n",
        "\r\n",
        "> 주석 태그 안에 들어 있는 HTML 주석(<!-- comment -->)을 찾는 데 사용\r\n"
      ]
    },
    {
      "cell_type": "markdown",
      "metadata": {
        "id": "uWqra1Tk5PxP"
      },
      "source": [
        "# 예제 페이지 html 구조\r\n",
        "> http://www.pythonscraping.com/pages/page3.html\r\n",
        "---\r\n",
        "\r\n",
        "\r\n",
        "```\r\n",
        "+-- html\r\n",
        "    +-- body\r\n",
        "        +-- div.wrapper\r\n",
        "            +-- h1\r\n",
        "            +-- div.content\r\n",
        "            +-- table#giftList\r\n",
        "                +-- tr\r\n",
        "                    +-- th\r\n",
        "                    +-- th\r\n",
        "                    +-- th\r\n",
        "                    +-- th\r\n",
        "                +-- tr.gift#gift1\r\n",
        "                    +-- td\r\n",
        "                    +-- td\r\n",
        "                        +-- span.excitingNote\r\n",
        "                    +-- td\r\n",
        "                    +-- td\r\n",
        "                        +-- img\r\n",
        "                +-- ... 더 많은 테이블 행 ...\r\n",
        "        +-- div.footer\r\n"
      ]
    },
    {
      "cell_type": "code",
      "metadata": {
        "colab": {
          "base_uri": "https://localhost:8080/"
        },
        "id": "5slqBAti0csc",
        "outputId": "e17cbe86-0f59-4c56-88b1-fd662912a9eb"
      },
      "source": [
        "from urllib.request import urlopen\r\n",
        "from bs4 import BeautifulSoup\r\n",
        "\r\n",
        "html = urlopen('http://www.pythonscraping.com/pages/page3.html')\r\n",
        "bs = BeautifulSoup(html.read(), 'html.parser')\r\n",
        "\r\n",
        "for child in bs.find('table', {'id': 'giftList'}).children:\r\n",
        "  print(child)"
      ],
      "execution_count": null,
      "outputs": [
        {
          "output_type": "stream",
          "text": [
            "\n",
            "\n",
            "<tr><th>\n",
            "Item Title\n",
            "</th><th>\n",
            "Description\n",
            "</th><th>\n",
            "Cost\n",
            "</th><th>\n",
            "Image\n",
            "</th></tr>\n",
            "\n",
            "\n",
            "<tr class=\"gift\" id=\"gift1\"><td>\n",
            "Vegetable Basket\n",
            "</td><td>\n",
            "This vegetable basket is the perfect gift for your health conscious (or overweight) friends!\n",
            "<span class=\"excitingNote\">Now with super-colorful bell peppers!</span>\n",
            "</td><td>\n",
            "$15.00\n",
            "</td><td>\n",
            "<img src=\"../img/gifts/img1.jpg\"/>\n",
            "</td></tr>\n",
            "\n",
            "\n",
            "<tr class=\"gift\" id=\"gift2\"><td>\n",
            "Russian Nesting Dolls\n",
            "</td><td>\n",
            "Hand-painted by trained monkeys, these exquisite dolls are priceless! And by \"priceless,\" we mean \"extremely expensive\"! <span class=\"excitingNote\">8 entire dolls per set! Octuple the presents!</span>\n",
            "</td><td>\n",
            "$10,000.52\n",
            "</td><td>\n",
            "<img src=\"../img/gifts/img2.jpg\"/>\n",
            "</td></tr>\n",
            "\n",
            "\n",
            "<tr class=\"gift\" id=\"gift3\"><td>\n",
            "Fish Painting\n",
            "</td><td>\n",
            "If something seems fishy about this painting, it's because it's a fish! <span class=\"excitingNote\">Also hand-painted by trained monkeys!</span>\n",
            "</td><td>\n",
            "$10,005.00\n",
            "</td><td>\n",
            "<img src=\"../img/gifts/img3.jpg\"/>\n",
            "</td></tr>\n",
            "\n",
            "\n",
            "<tr class=\"gift\" id=\"gift4\"><td>\n",
            "Dead Parrot\n",
            "</td><td>\n",
            "This is an ex-parrot! <span class=\"excitingNote\">Or maybe he's only resting?</span>\n",
            "</td><td>\n",
            "$0.50\n",
            "</td><td>\n",
            "<img src=\"../img/gifts/img4.jpg\"/>\n",
            "</td></tr>\n",
            "\n",
            "\n",
            "<tr class=\"gift\" id=\"gift5\"><td>\n",
            "Mystery Box\n",
            "</td><td>\n",
            "If you love suprises, this mystery box is for you! Do not place on light-colored surfaces. May cause oil staining. <span class=\"excitingNote\">Keep your friends guessing!</span>\n",
            "</td><td>\n",
            "$1.50\n",
            "</td><td>\n",
            "<img src=\"../img/gifts/img6.jpg\"/>\n",
            "</td></tr>\n",
            "\n",
            "\n"
          ],
          "name": "stdout"
        }
      ]
    },
    {
      "cell_type": "code",
      "metadata": {
        "colab": {
          "base_uri": "https://localhost:8080/"
        },
        "id": "DijMQa7o314c",
        "outputId": "94c0d137-61ac-4964-dfd3-07e3a19df5fc"
      },
      "source": [
        "from urllib.request import urlopen\r\n",
        "from bs4 import BeautifulSoup\r\n",
        "\r\n",
        "html = urlopen('http://www.pythonscraping.com/pages/page3.html')\r\n",
        "bs = BeautifulSoup(html.read(), 'html.parser')\r\n",
        "\r\n",
        "for sibling in bs.find('table', {'id': 'giftList'}).tr.next_siblings:\r\n",
        "  print(sibling)"
      ],
      "execution_count": null,
      "outputs": [
        {
          "output_type": "stream",
          "text": [
            "\n",
            "\n",
            "<tr class=\"gift\" id=\"gift1\"><td>\n",
            "Vegetable Basket\n",
            "</td><td>\n",
            "This vegetable basket is the perfect gift for your health conscious (or overweight) friends!\n",
            "<span class=\"excitingNote\">Now with super-colorful bell peppers!</span>\n",
            "</td><td>\n",
            "$15.00\n",
            "</td><td>\n",
            "<img src=\"../img/gifts/img1.jpg\"/>\n",
            "</td></tr>\n",
            "\n",
            "\n",
            "<tr class=\"gift\" id=\"gift2\"><td>\n",
            "Russian Nesting Dolls\n",
            "</td><td>\n",
            "Hand-painted by trained monkeys, these exquisite dolls are priceless! And by \"priceless,\" we mean \"extremely expensive\"! <span class=\"excitingNote\">8 entire dolls per set! Octuple the presents!</span>\n",
            "</td><td>\n",
            "$10,000.52\n",
            "</td><td>\n",
            "<img src=\"../img/gifts/img2.jpg\"/>\n",
            "</td></tr>\n",
            "\n",
            "\n",
            "<tr class=\"gift\" id=\"gift3\"><td>\n",
            "Fish Painting\n",
            "</td><td>\n",
            "If something seems fishy about this painting, it's because it's a fish! <span class=\"excitingNote\">Also hand-painted by trained monkeys!</span>\n",
            "</td><td>\n",
            "$10,005.00\n",
            "</td><td>\n",
            "<img src=\"../img/gifts/img3.jpg\"/>\n",
            "</td></tr>\n",
            "\n",
            "\n",
            "<tr class=\"gift\" id=\"gift4\"><td>\n",
            "Dead Parrot\n",
            "</td><td>\n",
            "This is an ex-parrot! <span class=\"excitingNote\">Or maybe he's only resting?</span>\n",
            "</td><td>\n",
            "$0.50\n",
            "</td><td>\n",
            "<img src=\"../img/gifts/img4.jpg\"/>\n",
            "</td></tr>\n",
            "\n",
            "\n",
            "<tr class=\"gift\" id=\"gift5\"><td>\n",
            "Mystery Box\n",
            "</td><td>\n",
            "If you love suprises, this mystery box is for you! Do not place on light-colored surfaces. May cause oil staining. <span class=\"excitingNote\">Keep your friends guessing!</span>\n",
            "</td><td>\n",
            "$1.50\n",
            "</td><td>\n",
            "<img src=\"../img/gifts/img6.jpg\"/>\n",
            "</td></tr>\n",
            "\n",
            "\n"
          ],
          "name": "stdout"
        }
      ]
    },
    {
      "cell_type": "code",
      "metadata": {
        "colab": {
          "base_uri": "https://localhost:8080/"
        },
        "id": "P07ZkzwO4m8x",
        "outputId": "2ab044aa-d0a7-4f24-a0e5-2fdb8daeb44a"
      },
      "source": [
        "from urllib.request import urlopen\r\n",
        "from bs4 import BeautifulSoup\r\n",
        "\r\n",
        "html = urlopen('http://www.pythonscraping.com/pages/page3.html')\r\n",
        "bs = BeautifulSoup(html.read(), 'html.parser')\r\n",
        "\r\n",
        "print(bs.find('img', {'src': '../img/gifts/img1.jpg'}).parent.previous_sibling.get_text())"
      ],
      "execution_count": null,
      "outputs": [
        {
          "output_type": "stream",
          "text": [
            "\n",
            "$15.00\n",
            "\n"
          ],
          "name": "stdout"
        }
      ]
    }
  ]
}